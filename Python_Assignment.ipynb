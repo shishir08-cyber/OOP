{
  "nbformat": 4,
  "nbformat_minor": 0,
  "metadata": {
    "colab": {
      "provenance": [],
      "authorship_tag": "ABX9TyO315Oj13TkiXdsuV5smsKL",
      "include_colab_link": true
    },
    "kernelspec": {
      "name": "python3",
      "display_name": "Python 3"
    },
    "language_info": {
      "name": "python"
    }
  },
  "cells": [
    {
      "cell_type": "markdown",
      "metadata": {
        "id": "view-in-github",
        "colab_type": "text"
      },
      "source": [
        "<a href=\"https://colab.research.google.com/github/shishir08-cyber/OOP/blob/main/Python_Assignment.ipynb\" target=\"_parent\"><img src=\"https://colab.research.google.com/assets/colab-badge.svg\" alt=\"Open In Colab\"/></a>"
      ]
    },
    {
      "cell_type": "code",
      "source": [
        "def categorize_employee(salary):\n",
        "  if salary > 50000:\n",
        "    return \"High Income\"\n",
        "  elif 30000 <= salary <= 50000:\n",
        "    return \"Medium Income\"\n",
        "  else:\n",
        "    return \"Low Income\"\n",
        "try:\n",
        "  salary = float(input(\"Enter the employee's salary: ₹\"))\n",
        "  category = categorize_employee(salary)\n",
        "  print(f\"The employee's category is: {category}\")\n",
        "except ValueError:\n",
        "  print(\"Invalid input. Please enter a valid numeric salary.\")\n"
      ],
      "metadata": {
        "colab": {
          "base_uri": "https://localhost:8080/"
        },
        "id": "NcF_agR3qvRw",
        "outputId": "2ceff035-5296-4cf6-a4c2-832cb361565e"
      },
      "execution_count": null,
      "outputs": [
        {
          "output_type": "stream",
          "name": "stdout",
          "text": [
            "Enter the employee's salary: ₹6000\n",
            "The employee's category is: Low Income\n"
          ]
        }
      ]
    }
  ]
}